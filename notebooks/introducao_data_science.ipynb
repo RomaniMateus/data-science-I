{
 "cells": [
  {
   "cell_type": "markdown",
   "source": [
    "# Introdução a Data Science\n",
    "\n",
    "Data Science é a extração de conhecimento a partir de dados. É uma área interdisciplinar que utiliza técnicas e teorias de diversas áreas como estatística, aprendizado de máquina e ciência da computação.\n",
    "\n",
    "## O que é um dado?\n",
    "\n",
    "Dados são fatos brutos que descrevem o mundo físico ou virtual. Dados podem ser números, palavras, imagens, vídeos, etc. Dados podem ser estruturados ou não estruturados.\n",
    "\n",
    "## O que é um dado estruturado?\n",
    "\n",
    "Dados estruturados são dados que foram organizados de forma que o computador consiga entendê-los. Por exemplo, uma tabela de dados de avaliações de filmes. Neste curso iremos trabalhar com estes dados estruturados."
   ],
   "metadata": {
    "collapsed": false
   },
   "id": "dd184fa1943d4725"
  },
  {
   "cell_type": "code",
   "execution_count": null,
   "outputs": [],
   "source": [
    "import pandas as pd\n",
    "\n",
    "ratings = pd.read_csv('../data/introducao-a-data-science-aula0/aula0/ml-latest-small/ratings.csv')\n",
    "\n",
    "ratings.head()"
   ],
   "metadata": {
    "collapsed": false
   },
   "id": "94b04dbb42aefce3"
  },
  {
   "cell_type": "markdown",
   "source": [
    "## Analisando os dados\n",
    "\n",
    "Vamos analisar os dados para entender melhor o que temos neles. Para isso, vamos utilizar os métodos \"unique\" e \"value_counts\" do pandas, que nos ajudam a entender quais os valores únicos de uma coluna e quantas vezes cada um aparece, respectivamente."
   ],
   "metadata": {
    "collapsed": false
   },
   "id": "da65c4e8a22fd2c8"
  },
  {
   "cell_type": "code",
   "execution_count": 10,
   "outputs": [
    {
     "data": {
      "text/plain": "array([4. , 5. , 3. , 2. , 1. , 4.5, 3.5, 2.5, 0.5, 1.5])"
     },
     "execution_count": 10,
     "metadata": {},
     "output_type": "execute_result"
    }
   ],
   "source": [
    "ratings.rating.unique()"
   ],
   "metadata": {
    "collapsed": false,
    "ExecuteTime": {
     "end_time": "2023-11-12T22:32:24.429077177Z",
     "start_time": "2023-11-12T22:32:24.307975198Z"
    }
   },
   "id": "de7850ac1a08a50d"
  },
  {
   "cell_type": "code",
   "execution_count": 11,
   "outputs": [
    {
     "data": {
      "text/plain": "rating\n4.0    26818\n3.0    20047\n5.0    13211\n3.5    13136\n4.5     8551\n2.0     7551\n2.5     5550\n1.0     2811\n1.5     1791\n0.5     1370\nName: count, dtype: int64"
     },
     "execution_count": 11,
     "metadata": {},
     "output_type": "execute_result"
    }
   ],
   "source": [
    "ratings.rating.value_counts()"
   ],
   "metadata": {
    "collapsed": false,
    "ExecuteTime": {
     "end_time": "2023-11-12T22:32:32.243868744Z",
     "start_time": "2023-11-12T22:32:32.197135433Z"
    }
   },
   "id": "79d2ac035d9bd8e9"
  },
  {
   "cell_type": "markdown",
   "source": [
    "## Média e mediana\n",
    "\n",
    "A média e a mediana são medidas de tendência central. A média é a soma de todos os valores dividido pela quantidade de valores. A mediana é o valor que separa a metade maior e a metade menor de uma amostra, uma população ou uma distribuição de probabilidade. A mediana é o valor do meio."
   ],
   "metadata": {
    "collapsed": false
   },
   "id": "264a9ef63654b6ea"
  },
  {
   "cell_type": "code",
   "execution_count": 12,
   "outputs": [
    {
     "data": {
      "text/plain": "3.501556983616962"
     },
     "execution_count": 12,
     "metadata": {},
     "output_type": "execute_result"
    }
   ],
   "source": [
    "ratings.rating.mean()"
   ],
   "metadata": {
    "collapsed": false,
    "ExecuteTime": {
     "end_time": "2023-11-12T22:55:36.857716818Z",
     "start_time": "2023-11-12T22:55:36.764818129Z"
    }
   },
   "id": "c6c470f002b4d31b"
  },
  {
   "cell_type": "code",
   "execution_count": 13,
   "outputs": [
    {
     "data": {
      "text/plain": "3.5"
     },
     "execution_count": 13,
     "metadata": {},
     "output_type": "execute_result"
    }
   ],
   "source": [
    "ratings.rating.median()"
   ],
   "metadata": {
    "collapsed": false,
    "ExecuteTime": {
     "end_time": "2023-11-12T22:55:38.733451191Z",
     "start_time": "2023-11-12T22:55:38.724630285Z"
    }
   },
   "id": "9aaec8a293c7952f"
  },
  {
   "cell_type": "markdown",
   "source": [
    "Vale lembrar que a média é muito sensível a outliers, ou seja, valores muito fora do comum. Por exemplo, se tivermos 9 notas 5 e uma nota 0, a média será 4.1. Já a mediana será 5, que representa melhor o conjunto de dados."
   ],
   "metadata": {
    "collapsed": false
   },
   "id": "9acb013c3daebae6"
  },
  {
   "cell_type": "markdown",
   "source": [
    "## Visualizando os dados\n",
    "\n",
    "O pandas possui um método chamado \"plot\" que nos ajuda a visualizar os dados. Vamos plotar um histograma dos dados de avaliação."
   ],
   "metadata": {
    "collapsed": false
   },
   "id": "f9751bf19f5709e2"
  },
  {
   "cell_type": "markdown",
   "source": [
    "### Visualizando com Pandas"
   ],
   "metadata": {
    "collapsed": false
   },
   "id": "fe3826c409152fbc"
  },
  {
   "cell_type": "code",
   "execution_count": 15,
   "outputs": [
    {
     "data": {
      "text/plain": "<Axes: ylabel='Frequency'>"
     },
     "execution_count": 15,
     "metadata": {},
     "output_type": "execute_result"
    },
    {
     "data": {
      "text/plain": "<Figure size 640x480 with 1 Axes>",
      "image/png": "[encoded data removed]"
     },
     "metadata": {},
     "output_type": "display_data"
    }
   ],
   "source": [
    "import matplotlib.pyplot as plt\n",
    "ratings.rating.plot(kind='hist')"
   ],
   "metadata": {
    "collapsed": false,
    "ExecuteTime": {
     "start_time": "2023-11-12T22:57:33.155433744Z"
    }
   },
   "id": "26a26310a17dbbd3"
  },
  {
   "cell_type": "markdown",
   "source": [
    "Outra forma de visualizar os dados é utilizando o método \"boxplot\". O boxplot nos mostra a mediana, os quartis e os outliers. Os outliers são os pontos fora do \"intervalo normal\" dos dados. Por exemplo, se tivermos 9 notas 5 e uma nota 0, o boxplot nos mostra que temos um outlier. "
   ],
   "metadata": {
    "collapsed": false
   },
   "id": "560dd72040c39706"
  },
  {
   "cell_type": "markdown",
   "source": [
    "### Visualizando com Seaborn"
   ],
   "metadata": {
    "collapsed": false
   },
   "id": "a3a4a9a16cb05ec6"
  },
  {
   "cell_type": "code",
   "execution_count": 42,
   "outputs": [
    {
     "data": {
      "text/plain": "<Axes: >"
     },
     "execution_count": 42,
     "metadata": {},
     "output_type": "execute_result"
    },
    {
     "data": {
      "text/plain": "<Figure size 640x480 with 1 Axes>",
      "image/png": "[encoded data removed]"
     },
     "metadata": {},
     "output_type": "display_data"
    }
   ],
   "source": [
    "import seaborn as sns\n",
    "\n",
    "sns.boxplot(ratings.rating, orient='h')"
   ],
   "metadata": {
    "collapsed": false,
    "ExecuteTime": {
     "end_time": "2023-11-12T23:17:51.178445172Z",
     "start_time": "2023-11-12T23:17:51.097118605Z"
    }
   },
   "id": "1da697590aec6520"
  },
  {
   "cell_type": "markdown",
   "source": [
    "### O método describe\n",
    "\n",
    "O método \"describe\" nos dá um resumo estatístico dos dados. Ele nos mostra a quantidade de dados, a média, o desvio padrão, o valor mínimo, os quartis e o valor máximo."
   ],
   "metadata": {
    "collapsed": false
   },
   "id": "2dcee6b6b2d64a69"
  },
  {
   "cell_type": "code",
   "execution_count": 19,
   "outputs": [
    {
     "data": {
      "text/plain": "count    100836.000000\nmean          3.501557\nstd           1.042529\nmin           0.500000\n25%           3.000000\n50%           3.500000\n75%           4.000000\nmax           5.000000\nName: rating, dtype: float64"
     },
     "execution_count": 19,
     "metadata": {},
     "output_type": "execute_result"
    }
   ],
   "source": [
    "ratings.rating.describe()"
   ],
   "metadata": {
    "collapsed": false,
    "ExecuteTime": {
     "end_time": "2023-11-12T22:59:45.384821142Z",
     "start_time": "2023-11-12T22:59:45.372259018Z"
    }
   },
   "id": "b8b73808895993f9"
  },
  {
   "cell_type": "markdown",
   "source": [
    "# Carregando o arquivo \"movies\""
   ],
   "metadata": {
    "collapsed": false
   },
   "id": "478aa10aa8ad0fb1"
  },
  {
   "cell_type": "code",
   "execution_count": 20,
   "outputs": [],
   "source": [
    "movies = pd.read_csv('../data/introducao-a-data-science-aula0/aula0/ml-latest-small/movies.csv')"
   ],
   "metadata": {
    "collapsed": false,
    "ExecuteTime": {
     "end_time": "2023-11-12T23:00:29.102277568Z",
     "start_time": "2023-11-12T23:00:28.965855889Z"
    }
   },
   "id": "36e7d7cbb456d7ac"
  },
  {
   "cell_type": "code",
   "execution_count": 21,
   "outputs": [
    {
     "data": {
      "text/plain": "   movieId                               title  \\\n0        1                    Toy Story (1995)   \n1        2                      Jumanji (1995)   \n2        3             Grumpier Old Men (1995)   \n3        4            Waiting to Exhale (1995)   \n4        5  Father of the Bride Part II (1995)   \n\n                                        genres  \n0  Adventure|Animation|Children|Comedy|Fantasy  \n1                   Adventure|Children|Fantasy  \n2                               Comedy|Romance  \n3                         Comedy|Drama|Romance  \n4                                       Comedy  ",
      "text/html": "<div>\n<style scoped>\n    .dataframe tbody tr th:only-of-type {\n        vertical-align: middle;\n    }\n\n    .dataframe tbody tr th {\n        vertical-align: top;\n    }\n\n    .dataframe thead th {\n        text-align: right;\n    }\n</style>\n<table border=\"1\" class=\"dataframe\">\n  <thead>\n    <tr style=\"text-align: right;\">\n      <th></th>\n      <th>movieId</th>\n      <th>title</th>\n      <th>genres</th>\n    </tr>\n  </thead>\n  <tbody>\n    <tr>\n      <th>0</th>\n      <td>1</td>\n      <td>Toy Story (1995)</td>\n      <td>Adventure|Animation|Children|Comedy|Fantasy</td>\n    </tr>\n    <tr>\n      <th>1</th>\n      <td>2</td>\n      <td>Jumanji (1995)</td>\n      <td>Adventure|Children|Fantasy</td>\n    </tr>\n    <tr>\n      <th>2</th>\n      <td>3</td>\n      <td>Grumpier Old Men (1995)</td>\n      <td>Comedy|Romance</td>\n    </tr>\n    <tr>\n      <th>3</th>\n      <td>4</td>\n      <td>Waiting to Exhale (1995)</td>\n      <td>Comedy|Drama|Romance</td>\n    </tr>\n    <tr>\n      <th>4</th>\n      <td>5</td>\n      <td>Father of the Bride Part II (1995)</td>\n      <td>Comedy</td>\n    </tr>\n  </tbody>\n</table>\n</div>"
     },
     "execution_count": 21,
     "metadata": {},
     "output_type": "execute_result"
    }
   ],
   "source": [
    "movies.head()"
   ],
   "metadata": {
    "collapsed": false,
    "ExecuteTime": {
     "end_time": "2023-11-12T23:00:31.020932904Z",
     "start_time": "2023-11-12T23:00:31.007034906Z"
    }
   },
   "id": "31b6c96c169dc5f8"
  },
  {
   "cell_type": "markdown",
   "source": [
    "## Analisando o filme Toy Story\n",
    "\n",
    "Vamos analisar os dados do filme Toy Story. Para isso, vamos utilizar o método \"query\" do pandas para selecionar somente as linhas que possuem o título \"Toy Story (1995)\"."
   ],
   "metadata": {
    "collapsed": false
   },
   "id": "6acc2d97c183520f"
  },
  {
   "cell_type": "code",
   "execution_count": 22,
   "outputs": [],
   "source": [
    "toy_story_ratings = ratings.query('movieId == 1')"
   ],
   "metadata": {
    "collapsed": false,
    "ExecuteTime": {
     "end_time": "2023-11-12T23:03:21.896034393Z",
     "start_time": "2023-11-12T23:03:21.761304369Z"
    }
   },
   "id": "db9d7106d4769fc3"
  },
  {
   "cell_type": "code",
   "execution_count": 23,
   "outputs": [
    {
     "data": {
      "text/plain": "      userId  movieId  rating   timestamp\n0          1        1     4.0   964982703\n516        5        1     4.0   847434962\n874        7        1     4.5  1106635946\n1434      15        1     2.5  1510577970\n1667      17        1     4.5  1305696483",
      "text/html": "<div>\n<style scoped>\n    .dataframe tbody tr th:only-of-type {\n        vertical-align: middle;\n    }\n\n    .dataframe tbody tr th {\n        vertical-align: top;\n    }\n\n    .dataframe thead th {\n        text-align: right;\n    }\n</style>\n<table border=\"1\" class=\"dataframe\">\n  <thead>\n    <tr style=\"text-align: right;\">\n      <th></th>\n      <th>userId</th>\n      <th>movieId</th>\n      <th>rating</th>\n      <th>timestamp</th>\n    </tr>\n  </thead>\n  <tbody>\n    <tr>\n      <th>0</th>\n      <td>1</td>\n      <td>1</td>\n      <td>4.0</td>\n      <td>964982703</td>\n    </tr>\n    <tr>\n      <th>516</th>\n      <td>5</td>\n      <td>1</td>\n      <td>4.0</td>\n      <td>847434962</td>\n    </tr>\n    <tr>\n      <th>874</th>\n      <td>7</td>\n      <td>1</td>\n      <td>4.5</td>\n      <td>1106635946</td>\n    </tr>\n    <tr>\n      <th>1434</th>\n      <td>15</td>\n      <td>1</td>\n      <td>2.5</td>\n      <td>1510577970</td>\n    </tr>\n    <tr>\n      <th>1667</th>\n      <td>17</td>\n      <td>1</td>\n      <td>4.5</td>\n      <td>1305696483</td>\n    </tr>\n  </tbody>\n</table>\n</div>"
     },
     "execution_count": 23,
     "metadata": {},
     "output_type": "execute_result"
    }
   ],
   "source": [
    "toy_story_ratings.head()"
   ],
   "metadata": {
    "collapsed": false,
    "ExecuteTime": {
     "end_time": "2023-11-12T23:03:24.693027612Z",
     "start_time": "2023-11-12T23:03:24.674801047Z"
    }
   },
   "id": "1f41116715886656"
  },
  {
   "cell_type": "code",
   "execution_count": 24,
   "outputs": [
    {
     "data": {
      "text/plain": "3.9209302325581397"
     },
     "execution_count": 24,
     "metadata": {},
     "output_type": "execute_result"
    }
   ],
   "source": [
    "toy_story_ratings.rating.mean()"
   ],
   "metadata": {
    "collapsed": false,
    "ExecuteTime": {
     "end_time": "2023-11-12T23:04:13.046684217Z",
     "start_time": "2023-11-12T23:04:12.863613428Z"
    }
   },
   "id": "187a3ad130e106ec"
  },
  {
   "cell_type": "markdown",
   "source": [
    "## Agrupando os dados por filme\n",
    "\n",
    "Vamos agrupar os dados por filme e calcular a média de avaliação de cada filme."
   ],
   "metadata": {
    "collapsed": false
   },
   "id": "6c8ccd1ba170b9b0"
  },
  {
   "cell_type": "code",
   "execution_count": 40,
   "outputs": [
    {
     "name": "stdout",
     "output_type": "stream",
     "text": [
      "<class 'pandas.core.series.Series'>\n"
     ]
    },
    {
     "data": {
      "text/plain": "movieId\n1    3.920930\n2    3.431818\n3    3.259615\n4    2.357143\n5    3.071429\nName: rating, dtype: float64"
     },
     "execution_count": 40,
     "metadata": {},
     "output_type": "execute_result"
    }
   ],
   "source": [
    "mean_ratings = ratings.groupby('movieId').mean().rating\n",
    "mean_ratings.head()"
   ],
   "metadata": {
    "collapsed": false,
    "ExecuteTime": {
     "end_time": "2023-11-12T23:15:29.042915033Z",
     "start_time": "2023-11-12T23:15:28.949858433Z"
    }
   },
   "id": "c6114e93e3e647bf"
  },
  {
   "cell_type": "code",
   "execution_count": 45,
   "outputs": [
    {
     "data": {
      "text/plain": "<Axes: title={'center': 'Média dos filmes'}, ylabel='Frequency'>"
     },
     "execution_count": 45,
     "metadata": {},
     "output_type": "execute_result"
    },
    {
     "data": {
      "text/plain": "<Figure size 640x480 with 1 Axes>",
      "image/png": "[encoded data removed]"
     },
     "metadata": {},
     "output_type": "display_data"
    }
   ],
   "source": [
    "mean_ratings.plot(kind='hist', title='Média dos filmes')"
   ],
   "metadata": {
    "collapsed": false,
    "ExecuteTime": {
     "end_time": "2023-11-12T23:23:06.040670710Z",
     "start_time": "2023-11-12T23:23:05.897304150Z"
    }
   },
   "id": "10097084550317be"
  },
  {
   "cell_type": "code",
   "execution_count": 47,
   "outputs": [
    {
     "data": {
      "text/plain": "<Axes: >"
     },
     "execution_count": 47,
     "metadata": {},
     "output_type": "execute_result"
    },
    {
     "data": {
      "text/plain": "<Figure size 640x480 with 1 Axes>",
      "image/png": "[encoded data removed]"
     },
     "metadata": {},
     "output_type": "display_data"
    }
   ],
   "source": [
    "sns.boxplot(mean_ratings.values, orient='h')"
   ],
   "metadata": {
    "collapsed": false,
    "ExecuteTime": {
     "end_time": "2023-11-12T23:23:22.575020208Z",
     "start_time": "2023-11-12T23:23:22.496801547Z"
    }
   },
   "id": "40d848e08a05be50"
  },
  {
   "cell_type": "code",
   "execution_count": null,
   "outputs": [],
   "source": [],
   "metadata": {
    "collapsed": false
   },
   "id": "7327095ea7d19e4f"
  }
 ],
 "metadata": {
  "kernelspec": {
   "display_name": "Python 3",
   "language": "python",
   "name": "python3"
  },
  "language_info": {
   "codemirror_mode": {
    "name": "ipython",
    "version": 2
   },
   "file_extension": ".py",
   "mimetype": "text/x-python",
   "name": "python",
   "nbconvert_exporter": "python",
   "pygments_lexer": "ipython2",
   "version": "2.7.6"
  }
 },
 "nbformat": 4,
 "nbformat_minor": 5
}
